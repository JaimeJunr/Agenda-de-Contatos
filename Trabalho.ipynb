{
  "nbformat": 4,
  "nbformat_minor": 0,
  "metadata": {
    "colab": {
      "provenance": [],
      "toc_visible": true,
      "include_colab_link": true
    },
    "kernelspec": {
      "name": "python3",
      "display_name": "Python 3"
    }
  },
  "cells": [
    {
      "cell_type": "markdown",
      "metadata": {
        "id": "view-in-github",
        "colab_type": "text"
      },
      "source": [
        "<a href=\"https://colab.research.google.com/github/JaimeJunr/Agenda-de-Contatos/blob/main/Trabalho.ipynb\" target=\"_parent\"><img src=\"https://colab.research.google.com/assets/colab-badge.svg\" alt=\"Open In Colab\"/></a>"
      ]
    },
    {
      "cell_type": "markdown",
      "metadata": {
        "id": "KJqp9AANOCtf"
      },
      "source": [
        "<img src=\"https://raw.githubusercontent.com/andre-marcos-perez/ebac-course-utils/main/media/logo/newebac_logo_black_half.png\" alt=\"ebac-logo\">\n",
        "\n",
        "---\n",
        "\n",
        "# **Módulo** | Python: Variáveis & Tipos de Dados\n",
        "Caderno de **Exercícios**<br>\n",
        "Professor [André Perez](https://www.linkedin.com/in/andremarcosperez/)\n",
        "\n",
        "---"
      ]
    },
    {
      "cell_type": "markdown",
      "metadata": {
        "id": "d9jDtUbDOE1-"
      },
      "source": [
        "# **Tópicos**\n",
        "\n",
        "<ol type=\"1\">\n",
        "  <li>Introdução ao Google Colab;</li>\n",
        "  <li>Variáveis;</li>\n",
        "  <li>Números;</li>\n",
        "  <li><i>Strings;</i></li>\n",
        "  <li>Boleanos.</li>\n",
        "</ol>"
      ]
    },
    {
      "cell_type": "markdown",
      "metadata": {
        "id": "SmoHgt-lwkpD"
      },
      "source": [
        "---"
      ]
    },
    {
      "cell_type": "markdown",
      "metadata": {
        "id": "GABI6OW8OfQ2"
      },
      "source": [
        "# **Exercícios**"
      ]
    },
    {
      "cell_type": "markdown",
      "metadata": {
        "id": "muD1vxozykSC"
      },
      "source": [
        "## 1\\. Google Colab"
      ]
    },
    {
      "cell_type": "markdown",
      "metadata": {
        "id": "ahrFfCuBxJKs"
      },
      "source": [
        "Crie uma célula de código que escreva o texto \"Olá mundo!\", utilize o comando `print`."
      ]
    },
    {
      "cell_type": "code",
      "source": [
        "print(\"Olá Mundo!\")"
      ],
      "metadata": {
        "id": "aT8X1Gt1jgsm"
      },
      "execution_count": null,
      "outputs": []
    },
    {
      "cell_type": "markdown",
      "metadata": {
        "id": "KI9zQRT2xa7m"
      },
      "source": [
        "Crie uma célua de texto e adicione uma imagem."
      ]
    },
    {
      "cell_type": "markdown",
      "source": [
        "![4f8e6088e343d12015ff020ef2cd6601.jpg](data:image/jpeg;base64,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)"
      ],
      "metadata": {
        "id": "gZRvNoJQj6Co"
      }
    },
    {
      "cell_type": "markdown",
      "source": [],
      "metadata": {
        "id": "zWyZ64uBjnam"
      }
    },
    {
      "cell_type": "markdown",
      "metadata": {
        "id": "tFYOPLS3xiwe"
      },
      "source": [
        "## 2\\. Números"
      ]
    },
    {
      "cell_type": "markdown",
      "metadata": {
        "id": "O2G9gt7tx2c-"
      },
      "source": [
        "Preencha as células de código para preencher os valores de (A), (B) e (C) na tabela de ticket médio abaixo:\n",
        "\n",
        "<br>\n",
        "\n",
        "| Dia   | Valor Total Vendas | Qtd Total Vendas | Ticket Medio |\n",
        "|-------|--------------------|------------------|--------------|\n",
        "| 19/01 | (A)                | 3                | 320.52       |\n",
        "| 20/01 | 834.47             | (B)              | 119.21       |\n",
        "| 23/01 | 15378.12           | 5                | (C)          |"
      ]
    },
    {
      "cell_type": "code",
      "metadata": {
        "id": "nsrKH9EizNRD"
      },
      "source": [
        "(A) = 2000,32"
      ],
      "execution_count": 1,
      "outputs": []
    },
    {
      "cell_type": "code",
      "metadata": {
        "id": "QQ1GBGHJzMmi"
      },
      "source": [
        "(B) = 4"
      ],
      "execution_count": 2,
      "outputs": []
    },
    {
      "cell_type": "code",
      "metadata": {
        "id": "W-li0nSMzKNa"
      },
      "source": [
        "(C) = 400.42"
      ],
      "execution_count": 4,
      "outputs": []
    },
    {
      "cell_type": "markdown",
      "metadata": {
        "id": "3eoP-Vj9yzh8"
      },
      "source": [
        "---"
      ]
    },
    {
      "cell_type": "markdown",
      "metadata": {
        "id": "yUJ6kdony6Pr"
      },
      "source": [
        "## 3\\. Strings"
      ]
    },
    {
      "cell_type": "markdown",
      "metadata": {
        "id": "KDuZpg-5zCvO"
      },
      "source": [
        "Aplique três métodos distintos na *string* abaixo, você pode conferir alguns métodos neste [link](https://www.w3schools.com/python/python_ref_string.asp):"
      ]
    },
    {
      "cell_type": "code",
      "metadata": {
        "id": "k9zbyf7BzjKj",
        "colab": {
          "base_uri": "https://localhost:8080/"
        },
        "outputId": "4e42eba4-146d-418c-b665-a6e3fdb6e98b"
      },
      "source": [
        "cancao = 'Roda mundo, roda gigante, roda moinho, roda pião.'\n",
        "cancao = cancao.casefold()\n",
        "print(cancao)\n",
        "cancao = cancao.title()\n",
        "print(cancao)\n",
        "cancao = cancao.swapcase()\n",
        "print(cancao)"
      ],
      "execution_count": 13,
      "outputs": [
        {
          "output_type": "stream",
          "name": "stdout",
          "text": [
            "roda mundo, roda gigante, roda moinho, roda pião.\n",
            "Roda Mundo, Roda Gigante, Roda Moinho, Roda Pião.\n",
            "rODA mUNDO, rODA gIGANTE, rODA mOINHO, rODA pIÃO.\n"
          ]
        }
      ]
    },
    {
      "cell_type": "markdown",
      "metadata": {
        "id": "guZMHXVq0FnC"
      },
      "source": [
        "Extraia da string abaixo o valor da taxa **selic** na variável `selic` e o valor do **ano** na variavel `ano`. Imprima os valores na tela."
      ]
    },
    {
      "cell_type": "code",
      "metadata": {
        "id": "cbx_P4IQ0agK",
        "colab": {
          "base_uri": "https://localhost:8080/"
        },
        "outputId": "f1546e16-56b6-4afd-edd2-c26feb54c0ea"
      },
      "source": [
        "noticia = 'Selic vai a 2,75% e supera expectativas; é a primeira alta em 6 anos.'\n",
        "position1 = noticia.find('2,75%')\n",
        "position2 = noticia.find('6 anos')\n",
        "selic = noticia[position1:position1+5]\n",
        "anos = noticia[position2:position2+6]\n",
        "msg1 = \"selic = \" + selic\n",
        "msg2 = \"Anos = \" + anos\n",
        "print(msg1, msg2)\n"
      ],
      "execution_count": 32,
      "outputs": [
        {
          "output_type": "stream",
          "name": "stdout",
          "text": [
            "selic = 2,75% Anos = 6 anos\n"
          ]
        }
      ]
    },
    {
      "cell_type": "markdown",
      "metadata": {
        "id": "wWzbu-OC0z3L"
      },
      "source": [
        "---"
      ]
    },
    {
      "cell_type": "markdown",
      "metadata": {
        "id": "no8w_Ati01xP"
      },
      "source": [
        "## 4\\. Booleanos"
      ]
    },
    {
      "cell_type": "markdown",
      "metadata": {
        "id": "D_0tC3SC099N"
      },
      "source": [
        "Utilize a tabela da verdade para responder: qual o valor da variável x?"
      ]
    },
    {
      "cell_type": "code",
      "metadata": {
        "id": "XwIEbxf91SpU",
        "colab": {
          "base_uri": "https://localhost:8080/"
        },
        "outputId": "cfe27a5f-1207-4088-80f6-018425ed473d"
      },
      "source": [
        "a = False\n",
        "b = True\n",
        "\n",
        "x = not a & b\n",
        "\n",
        "print(x)\n",
        "\n",
        "x = (a & b)\n",
        "\n",
        "print(x)\n",
        "\n"
      ],
      "execution_count": 43,
      "outputs": [
        {
          "output_type": "stream",
          "name": "stdout",
          "text": [
            "True\n",
            "False\n"
          ]
        }
      ]
    }
  ]
}